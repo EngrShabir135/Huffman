{
 "cells": [
  {
   "cell_type": "code",
   "execution_count": 1,
   "id": "7f146b39",
   "metadata": {},
   "outputs": [
    {
     "name": "stdout",
     "output_type": "stream",
     "text": [
      "C : 0\n",
      "B : 100\n",
      "D : 101\n",
      "A : 11\n"
     ]
    }
   ],
   "source": [
    "from collections import Counter\n",
    "\n",
    "\n",
    "class NodeTree(object):\n",
    "    def __init__(self, left=None, right=None):\n",
    "        self.left = left\n",
    "        self.right = right\n",
    "\n",
    "    def children(self):\n",
    "        return self.left, self.right\n",
    "\n",
    "    def __str__(self):\n",
    "        return self.left, self.right\n",
    "\n",
    "\n",
    "def huffman_code_tree(node, binString=''):\n",
    "    '''\n",
    "    Function to find Huffman Code\n",
    "    '''\n",
    "    if type(node) is str:\n",
    "        return {node: binString}\n",
    "    (l, r) = node.children()\n",
    "    d = dict()\n",
    "    d.update(huffman_code_tree(l, binString + '0'))\n",
    "    d.update(huffman_code_tree(r, binString + '1'))\n",
    "    return d\n",
    "\n",
    "\n",
    "def make_tree(nodes):\n",
    "    '''\n",
    "    Function to make tree\n",
    "    :param nodes: Nodes\n",
    "    :return: Root of the tree\n",
    "    '''\n",
    "    while len(nodes) > 1:\n",
    "        (key1, c1) = nodes[-1]\n",
    "        (key2, c2) = nodes[-2]\n",
    "        nodes = nodes[:-2]\n",
    "        node = NodeTree(key1, key2)\n",
    "        nodes.append((node, c1 + c2))\n",
    "        nodes = sorted(nodes, key=lambda x: x[1], reverse=True)\n",
    "    return nodes[0][0]\n",
    "\n",
    "\n",
    "if __name__ == '__main__':\n",
    "    string = 'BCAADDDCCACACAC'\n",
    "    freq = dict(Counter(string))\n",
    "    freq = sorted(freq.items(), key=lambda x: x[1], reverse=True)\n",
    "    node = make_tree(freq)\n",
    "    encoding = huffman_code_tree(node)\n",
    "    for i in encoding:\n",
    "        print(f'{i} : {encoding[i]}')"
   ]
  },
  {
   "cell_type": "code",
   "execution_count": null,
   "id": "68f6befb",
   "metadata": {},
   "outputs": [],
   "source": []
  }
 ],
 "metadata": {
  "kernelspec": {
   "display_name": "Python 3",
   "language": "python",
   "name": "python3"
  },
  "language_info": {
   "codemirror_mode": {
    "name": "ipython",
    "version": 3
   },
   "file_extension": ".py",
   "mimetype": "text/x-python",
   "name": "python",
   "nbconvert_exporter": "python",
   "pygments_lexer": "ipython3",
   "version": "3.8.8"
  }
 },
 "nbformat": 4,
 "nbformat_minor": 5
}
